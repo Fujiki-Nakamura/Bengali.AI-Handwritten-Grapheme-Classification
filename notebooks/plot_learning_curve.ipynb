{
 "cells": [
  {
   "cell_type": "code",
   "execution_count": null,
   "metadata": {},
   "outputs": [],
   "source": [
    "%matplotlib inline\n",
    "from collections import defaultdict\n",
    "from pathlib import Path\n",
    "\n",
    "import matplotlib.pyplot as plt\n",
    "import numpy as np\n",
    "import pandas as pd\n",
    "\n",
    "logs_d = Path('../logs')\n",
    "\n",
    "\n",
    "def plot_learning_curve(expid):\n",
    "    log_d = logs_d/expid\n",
    "    fname = log_d/'main.log'\n",
    "    with open(fname, 'r') as f:\n",
    "        lines = f.readlines()\n",
    "\n",
    "    n_lines = 30\n",
    "    for fold_i in range(5):\n",
    "        start_line_i = 3 + fold_i * n_lines\n",
    "        loss = {'train': [], 'valid': []}\n",
    "        score = {'train': [], 'valid': []}\n",
    "        for line_i in range(start_line_i, start_line_i + n_lines):\n",
    "            train_loss, valid_loss = lines[line_i].split(expid)[-1].split('[loss]')[-1][:18].strip().split(' Val ')\n",
    "            train_score, valid_score = lines[line_i].split(expid)[-1].split('[score]')[-1][:18].strip().split(' Val ')\n",
    "            loss['train'].append(float(train_loss))\n",
    "            loss['valid'].append(float(valid_loss))\n",
    "            score['train'].append(float(train_score))\n",
    "            score['valid'].append(float(valid_score))\n",
    "\n",
    "        assert len(loss['train']) == len(loss['valid'])\n",
    "        assert len(score['train']) == len(score['valid'])\n",
    "\n",
    "\n",
    "        df_fold = pd.DataFrame({\n",
    "            'train_loss': loss['train'],\n",
    "            'valid_loss': loss['valid'],\n",
    "            'train_score': score['train'],\n",
    "            'valid_score': score['valid'],\n",
    "        })\n",
    "\n",
    "        fig, axes = plt.subplots(ncols=2, nrows=1, figsize=(2*6, 4))\n",
    "        df_fold.plot(ax=axes[0], y=['train_loss', 'valid_loss'], title=f'{expid} / Fold {fold_i+1} / Loss')\n",
    "        df_fold.plot(ax=axes[1], y=['train_score', 'valid_score'], title=f'{expid} / Fold {fold_i+1} / Score')\n",
    "        plt.show()"
   ]
  },
  {
   "cell_type": "code",
   "execution_count": null,
   "metadata": {},
   "outputs": [],
   "source": [
    "plot_learning_curve(expid='20200109120411')"
   ]
  },
  {
   "cell_type": "code",
   "execution_count": null,
   "metadata": {},
   "outputs": [],
   "source": [
    "!cat ../logs/20200109120325/main.log | grep 'Fold 1' | tail -n 5"
   ]
  },
  {
   "cell_type": "code",
   "execution_count": null,
   "metadata": {},
   "outputs": [],
   "source": [
    "plot_learning_curve(expid='20200109120325')"
   ]
  },
  {
   "cell_type": "code",
   "execution_count": null,
   "metadata": {},
   "outputs": [],
   "source": [
    "plot_learning_curve(expid='20200112071902')"
   ]
  }
 ],
 "metadata": {
  "kernelspec": {
   "display_name": "deep",
   "language": "python",
   "name": "deep"
  },
  "language_info": {
   "codemirror_mode": {
    "name": "ipython",
    "version": 3
   },
   "file_extension": ".py",
   "mimetype": "text/x-python",
   "name": "python",
   "nbconvert_exporter": "python",
   "pygments_lexer": "ipython3",
   "version": "3.6.8"
  }
 },
 "nbformat": 4,
 "nbformat_minor": 2
}
