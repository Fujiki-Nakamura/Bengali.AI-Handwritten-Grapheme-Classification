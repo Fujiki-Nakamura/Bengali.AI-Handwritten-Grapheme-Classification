{
 "cells": [
  {
   "cell_type": "code",
   "execution_count": null,
   "metadata": {},
   "outputs": [],
   "source": [
    "%matplotlib inline\n",
    "from collections import defaultdict\n",
    "from pathlib import Path\n",
    "\n",
    "import matplotlib.pyplot as plt\n",
    "import numpy as np\n",
    "import pandas as pd\n",
    "\n",
    "import utils"
   ]
  },
  {
   "cell_type": "code",
   "execution_count": null,
   "metadata": {
    "scrolled": true
   },
   "outputs": [],
   "source": [
    "results_d = utils.plot_learning_curve(expid='20200226034539', target_folds=[1, ])"
   ]
  },
  {
   "cell_type": "code",
   "execution_count": null,
   "metadata": {},
   "outputs": [],
   "source": []
  },
  {
   "cell_type": "code",
   "execution_count": null,
   "metadata": {},
   "outputs": [],
   "source": [
    "utils.plot_learning_curve(expid='20200120011844', target_folds=[1, ])"
   ]
  },
  {
   "cell_type": "code",
   "execution_count": null,
   "metadata": {},
   "outputs": [],
   "source": [
    "utils.plot_learning_curve_2(expid='20200120011844', folds=[1, ], epochs=100)"
   ]
  },
  {
   "cell_type": "code",
   "execution_count": null,
   "metadata": {},
   "outputs": [],
   "source": [
    "utils.plot_learning_curve_2(expid='20200120051027', folds=[1, ], epochs=100)"
   ]
  },
  {
   "cell_type": "code",
   "execution_count": null,
   "metadata": {},
   "outputs": [],
   "source": [
    "utils.plot_learning_curve(expid='20200114003903', folds=[1, ], epochs=300)"
   ]
  },
  {
   "cell_type": "markdown",
   "metadata": {},
   "source": [
    "### dev"
   ]
  },
  {
   "cell_type": "code",
   "execution_count": null,
   "metadata": {},
   "outputs": [],
   "source": [
    "logsd =  Path('../logs')\n",
    "expid = '20200226034539'\n",
    "logd = logsd/expid\n",
    "\n",
    "logfname = logd/'main.log'\n",
    "\n",
    "with open(logfname, 'r') as logf:\n",
    "    lines = logf.readlines()"
   ]
  },
  {
   "cell_type": "code",
   "execution_count": null,
   "metadata": {
    "scrolled": false
   },
   "outputs": [],
   "source": [
    "target_folds = [1, ]\n",
    "fold_i = 0\n",
    "\n",
    "train = {'loss': [], 'score': []}\n",
    "valid = {'loss': [], 'score': []}\n",
    "c = 0\n",
    "for line in lines:\n",
    "    expid_fold_str = f'[{expid}] Fold '\n",
    "    if not expid_fold_str in line:\n",
    "        continue\n",
    "    \n",
    "    n_fold = int(line.split(expid_fold_str)[-1][:1])\n",
    "    if not n_fold in target_folds:\n",
    "        continue\n",
    "\n",
    "    fold_i = n_fold - 1\n",
    "    train_loss, valid_loss = line.split(expid)[-1].split('[loss]')[-1][:15].strip().split('/')\n",
    "    train_score, valid_score = line.split(expid)[-1].split('[score]')[-1][:15].strip().split('/')\n",
    "    train['loss'].append(float(train_loss))\n",
    "    valid['loss'].append(float(valid_loss))\n",
    "    train['score'].append(float(train_score))\n",
    "    valid['score'].append(float(valid_score))\n",
    "    \n",
    "df_fold = pd.DataFrame({\n",
    "        'train/loss': train['loss'],\n",
    "        'valid/loss': valid['loss'],\n",
    "        'train/score': train['score'],\n",
    "        'valid/score': valid['score'],\n",
    "})\n",
    "\n",
    "fig, axes = plt.subplots(ncols=2, nrows=1, figsize=(2*6, 4))\n",
    "df_fold.plot(ax=axes[0], y=['train/loss', 'valid/loss'],\n",
    "             title=f'{expid} / Fold {fold_i+1} / Loss')\n",
    "df_fold.plot(ax=axes[1], y=['train/score', 'valid/score'],\n",
    "             title=f'{expid} / Fold {fold_i+1} / Score')\n",
    "plt.show()"
   ]
  }
 ],
 "metadata": {
  "kernelspec": {
   "display_name": "deep",
   "language": "python",
   "name": "deep"
  },
  "language_info": {
   "codemirror_mode": {
    "name": "ipython",
    "version": 3
   },
   "file_extension": ".py",
   "mimetype": "text/x-python",
   "name": "python",
   "nbconvert_exporter": "python",
   "pygments_lexer": "ipython3",
   "version": "3.6.8"
  }
 },
 "nbformat": 4,
 "nbformat_minor": 2
}
